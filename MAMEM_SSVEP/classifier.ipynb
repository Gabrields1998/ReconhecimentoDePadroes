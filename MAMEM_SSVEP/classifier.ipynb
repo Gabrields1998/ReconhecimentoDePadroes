{
 "cells": [
  {
   "cell_type": "markdown",
   "metadata": {},
   "source": [
    "# Classificação\n",
    "\n",
    "A última etapa de uma aplicação de processamento de sinais é a classificação dos dados. Usamos como entrada desta etapa o vetor de características e um vetor com os rótulos (para uma classificação supervisionada) para o nosso caso.\n",
    "\n",
    "### Recarregamento dos vetores"
   ]
  },
  {
   "cell_type": "code",
   "execution_count": 36,
   "metadata": {},
   "outputs": [
    {
     "name": "stdout",
     "output_type": "stream",
     "text": [
      "Reading files/ssvep-epo.fif ...\n",
      "    Found the data of interest:\n",
      "        t =       0.00 ...    4816.00 ms\n",
      "        0 CTF compensation matrices available\n",
      "125 matching events found\n",
      "No baseline correction applied\n",
      "Not setting metadata\n",
      "0 projection items activated\n",
      "<EpochsFIF  |   125 events (all good), 0 - 4.816 sec, baseline off, ~15.1 MB, data loaded,\n",
      " '1': 25\n",
      " '2': 25\n",
      " '3': 30\n",
      " '4': 25\n",
      " '5': 20>\n",
      "(125, 13, 1205)\n",
      "Effective window size : 1.024 (s)\n",
      "[[[0.93674441 0.74141311 0.38201137 ... 0.68028774 0.5873291  0.2476712 ]\n",
      "  [0.97638268 0.63740008 0.2965196  ... 0.64086363 0.59099704 0.23757344]\n",
      "  [1.03881271 0.74823094 0.35052467 ... 0.76193674 0.66034644 0.25821164]\n",
      "  ...\n",
      "  [0.75223499 0.69451247 0.32560598 ... 0.57718996 0.40823829 0.07124297]\n",
      "  [0.98549479 0.94989159 0.41630772 ... 0.65147623 0.47961005 0.1042054 ]\n",
      "  [0.98260192 0.92993171 0.41861242 ... 0.61724877 0.46385364 0.0900444 ]]\n",
      "\n",
      " [[0.38381504 0.71549564 0.34765654 ... 0.22972511 0.45814206 0.59436434]\n",
      "  [0.53593299 0.67116295 0.27774932 ... 0.13494958 0.324484   0.39715296]\n",
      "  [0.55843889 0.7548622  0.30406947 ... 0.20261892 0.46116079 0.56648374]\n",
      "  ...\n",
      "  [0.51577375 0.45455115 0.18185857 ... 0.11417187 0.27062902 0.39060153]\n",
      "  [0.46213031 0.5655062  0.35507217 ... 0.17301737 0.29036647 0.50118811]\n",
      "  [0.42661521 0.51815579 0.24817847 ... 0.14329983 0.29927486 0.46798453]]\n",
      "\n",
      " [[0.84469972 0.73678515 0.65497281 ... 0.34986332 0.88886546 0.52453442]\n",
      "  [0.87411108 0.86245069 0.51877943 ... 0.18682573 0.65741933 0.38254332]\n",
      "  [0.91390991 0.86062721 0.63587545 ... 0.30298754 0.93277657 0.51513614]\n",
      "  ...\n",
      "  [0.52918706 0.63982467 0.55696052 ... 0.13063089 0.4648692  0.26732199]\n",
      "  [0.7738352  0.76526243 0.6440064  ... 0.26967144 0.76644904 0.44505526]\n",
      "  [0.55084927 0.70537328 0.62557339 ... 0.2229104  0.63161029 0.3586787 ]]\n",
      "\n",
      " ...\n",
      "\n",
      " [[0.83995382 0.67909845 1.00762685 ... 0.3092533  0.55256607 0.86061235]\n",
      "  [0.53567081 0.42139135 0.7745987  ... 0.27107412 0.44418105 0.69002322]\n",
      "  [0.85673446 0.70438645 1.10090566 ... 0.30535355 0.55460465 0.89296829]\n",
      "  ...\n",
      "  [0.47545397 0.33212007 0.42305442 ... 0.36059668 0.59691362 0.88003398]\n",
      "  [0.85774297 0.61336533 0.68976328 ... 0.39934679 0.53364597 0.8973827 ]\n",
      "  [0.69624141 0.4462031  0.48167206 ... 0.37142817 0.61390155 0.91162226]]\n",
      "\n",
      " [[1.02183845 0.32836085 0.55073433 ... 0.36002161 0.38402601 0.37839722]\n",
      "  [0.72837099 0.27738274 0.41673908 ... 0.31857238 0.36913386 0.31524619]\n",
      "  [0.90788517 0.34026491 0.59331452 ... 0.38230948 0.43248138 0.4159616 ]\n",
      "  ...\n",
      "  [0.52622599 0.24215553 0.30928347 ... 0.48057041 0.31508509 0.21513476]\n",
      "  [0.88837016 0.33637954 0.56331548 ... 0.53971664 0.41211846 0.32847387]\n",
      "  [0.70409267 0.29466216 0.42856972 ... 0.40176798 0.32026051 0.29912957]]\n",
      "\n",
      " [[1.65571795 1.66360452 0.97683472 ... 0.37201179 0.14250441 0.432256  ]\n",
      "  [1.32264683 1.25313723 0.64589776 ... 0.36024397 0.12358975 0.31779358]\n",
      "  [1.635285   1.63701252 0.96655    ... 0.46679292 0.16365806 0.41173463]\n",
      "  ...\n",
      "  [1.29690716 0.96729681 0.42676288 ... 0.30176463 0.09248173 0.21993999]\n",
      "  [1.86635698 1.48471761 0.66926194 ... 0.30603984 0.08026096 0.2822725 ]\n",
      "  [1.55715753 1.23590223 0.56612543 ... 0.29608366 0.07124195 0.20715412]]]\n",
      "(125, 13, 6, 3)\n",
      "(125, 13, 6, 3)\n",
      "FMN: (125, 13, 6)\n",
      "RSS: (125, 13, 6)\n",
      "max: (125, 13, 6)\n",
      "min: (125, 13, 6)\n",
      "mean:  (125, 13, 6)\n",
      "std:  (125, 13, 6)\n",
      "Kurtosis:  (125, 13, 6)\n",
      "RMS:  (125, 13, 6)\n",
      "avm:  (125, 13, 6)\n",
      "mad:  (125, 13, 6)\n",
      "mag:  (125, 13, 6)\n",
      "stdpsd:  (125, 13, 6)\n",
      "Shape dos dados: (750, 156)\n",
      "Shape original dos labels (125,)\n",
      "Shape final dos labels (750,)\n"
     ]
    }
   ],
   "source": [
    "%run features.ipynb"
   ]
  },
  {
   "cell_type": "markdown",
   "metadata": {},
   "source": [
    "## Métodos de classificação\n",
    "\n",
    "O classificador `SVM` (**S**upport **V**ector **M**achine) da biblioteca `scikit-learn` possui diversos modelos de classificação utilizando máquinas de vetores de suporte. As mais comuns são `SVC` (para aplicar modelos de classificação) e `SVR` (para modelos de regressão linear). Para este caso, vamos utilizar o `SVC`."
   ]
  },
  {
   "cell_type": "code",
   "execution_count": 37,
   "metadata": {},
   "outputs": [
    {
     "name": "stdout",
     "output_type": "stream",
     "text": [
      "[[0.16046654+0.j 0.13532002+0.j 0.18793739+0.j ... 0.09980554+0.j\n",
      "  0.1501966 +0.j 0.14926448+0.j]\n",
      " [0.06454945+0.j 0.05582977+0.j 0.07403885+0.j ... 0.13418587+0.j\n",
      "  0.17872736+0.j 0.17779551+0.j]\n",
      " [0.0171769 +0.j 0.01573991+0.j 0.01955046+0.j ... 0.11223404+0.j\n",
      "  0.13635283+0.j 0.13632327+0.j]\n",
      " ...\n",
      " [0.02515634+0.j 0.01711975+0.j 0.02450868+0.j ... 0.1155628 +0.j\n",
      "  0.16232173+0.j 0.13296402+0.j]\n",
      " [0.01273389+0.j 0.00962286+0.j 0.01356686+0.j ... 0.08966879+0.j\n",
      "  0.12808513+0.j 0.10078604+0.j]\n",
      " [0.00765373+0.j 0.00449043+0.j 0.0071543 +0.j ... 0.03686339+0.j\n",
      "  0.05724804+0.j 0.03907737+0.j]]\n"
     ]
    }
   ],
   "source": [
    "from sklearn.model_selection import train_test_split\n",
    "from sklearn.svm import SVC\n",
    "\n",
    "print (X)\n",
    "# dividindo as porções de dados em treino e teste (70 e 30% respectivamente)\n",
    "X_train, X_test, y_train, y_test = train_test_split(\n",
    "    abs(X), abs(y), train_size=0.7, shuffle=True)"
   ]
  },
  {
   "cell_type": "code",
   "execution_count": 38,
   "metadata": {},
   "outputs": [
    {
     "data": {
      "text/plain": [
       "SVC(gamma='auto')"
      ]
     },
     "execution_count": 38,
     "metadata": {},
     "output_type": "execute_result"
    }
   ],
   "source": [
    "# TODO: aplicação de diferentes parametrizações\n",
    "clf = SVC(gamma='auto', kernel = \"rbf\")\n",
    "clf.fit(X_train, y_train)"
   ]
  },
  {
   "cell_type": "code",
   "execution_count": null,
   "metadata": {},
   "outputs": [],
   "source": []
  },
  {
   "cell_type": "markdown",
   "metadata": {},
   "source": [
    "Criação de uma rotina simples para teste (e provável obtenção de um \"*belíssimo*\" resultado)"
   ]
  },
  {
   "cell_type": "code",
   "execution_count": 39,
   "metadata": {},
   "outputs": [
    {
     "name": "stdout",
     "output_type": "stream",
     "text": [
      "Acurácia: 20.00%\n"
     ]
    }
   ],
   "source": [
    "res = clf.predict(X_test)\n",
    "tot_hit = sum([1 for i in range(len(res)) if res[i] == y_test[i]])\n",
    "print('Acurácia: {:.2f}%'.format(tot_hit / X_test.shape[0] * 100))"
   ]
  },
  {
   "cell_type": "code",
   "execution_count": null,
   "metadata": {},
   "outputs": [],
   "source": []
  }
 ],
 "metadata": {
  "kernelspec": {
   "display_name": "Python 3",
   "language": "python",
   "name": "python3"
  },
  "language_info": {
   "codemirror_mode": {
    "name": "ipython",
    "version": 3
   },
   "file_extension": ".py",
   "mimetype": "text/x-python",
   "name": "python",
   "nbconvert_exporter": "python",
   "pygments_lexer": "ipython3",
   "version": "3.6.9"
  }
 },
 "nbformat": 4,
 "nbformat_minor": 4
}
