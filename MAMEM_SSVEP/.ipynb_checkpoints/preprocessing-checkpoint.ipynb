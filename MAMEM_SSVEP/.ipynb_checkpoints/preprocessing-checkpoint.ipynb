{
 "cells": [
  {
   "cell_type": "markdown",
   "metadata": {},
   "source": [
    "# Etapa de Pré-Processamento\n",
    "\n",
    "O ideal é que esta etapa seja realizada enquanto os dados estejam crus (antes de transformar em um objeto MNE ou transformado em um `RawData`). Esta afirmação ocorre pois os dados transformados em um objeto MNE `Epoch` ou `Evoked` não possuem todo os métodos para aplicar os **filtros temporais**, por exemplo, a ausência da negação de frequência (*notch_filter*).\n",
    "\n",
    "Contudo, podemos obter bons resultados com filtros passa-baixa (*low pass*) ou passa-alta (*high pass*), configurando valores abaixo e acima da frequência de corte desejada respectivamente."
   ]
  },
  {
   "cell_type": "code",
   "execution_count": 14,
   "metadata": {},
   "outputs": [],
   "source": [
    "import matplotlib\n",
    "import mne\n",
    "\n",
    "%matplotlib inline"
   ]
  },
  {
   "cell_type": "code",
   "execution_count": 15,
   "metadata": {},
   "outputs": [
    {
     "name": "stdout",
     "output_type": "stream",
     "text": [
      "Reading files/ssvep-epo.fif ...\n",
      "    Found the data of interest:\n",
      "        t =       0.00 ...    4816.00 ms\n",
      "        0 CTF compensation matrices available\n",
      "125 matching events found\n",
      "No baseline correction applied\n",
      "Not setting metadata\n",
      "0 projection items activated\n",
      "<EpochsFIF  |   125 events (all good), 0 - 4.816 sec, baseline off, ~294.8 MB, data loaded,\n",
      " '1': 25\n",
      " '2': 25\n",
      " '3': 30\n",
      " '4': 25\n",
      " '5': 20>\n",
      "<EpochsFIF  |   125 events (all good), 0 - 4.816 sec, baseline off, ~15.1 MB, data loaded,\n",
      " '1': 25\n",
      " '2': 25\n",
      " '3': 30\n",
      " '4': 25\n",
      " '5': 20>\n",
      "Effective window size : 1.024 (s)\n",
      "[[[0.78363687 0.34767317 0.57917323 ... 0.21096119 0.21235911 0.12026029]\n",
      "  [0.72744987 0.21897139 0.39751987 ... 0.17466876 0.16146073 0.1471748 ]\n",
      "  [0.6358801  0.1925193  0.26621368 ... 0.1022768  0.12666444 0.16326814]\n",
      "  ...\n",
      "  [1.21617957 1.42409114 0.55156032 ... 0.19192389 0.11997901 0.08685885]\n",
      "  [1.01838002 1.4982774  0.34584212 ... 0.26791276 0.26111629 0.22475293]\n",
      "  [1.0656089  1.02120749 0.26490092 ... 0.18744605 0.20041538 0.09848936]]\n",
      "\n",
      " [[0.94136595 1.13897985 0.44615957 ... 0.20854598 0.04235437 0.11388723]\n",
      "  [0.7564714  0.82480673 0.29013277 ... 0.09307937 0.02480386 0.09321256]\n",
      "  [0.64710289 0.80061397 0.28688761 ... 0.07290819 0.0306053  0.08270406]\n",
      "  ...\n",
      "  [0.8845509  0.85910101 0.49785525 ... 0.31590055 0.18213031 0.18447916]\n",
      "  [1.32777792 1.25914223 0.478764   ... 0.27319321 0.0251173  0.28400532]\n",
      "  [0.53456671 0.64584183 0.3888244  ... 0.12083407 0.07879266 0.16077839]]\n",
      "\n",
      " [[1.55079779 0.95502176 0.42571602 ... 0.08247842 0.12364093 0.10509367]\n",
      "  [0.98066444 0.73579179 0.29440111 ... 0.05898323 0.12736192 0.08852963]\n",
      "  [0.74090356 0.56966671 0.22069893 ... 0.05216515 0.08457758 0.06286976]\n",
      "  ...\n",
      "  [1.26821127 0.80579467 1.09727536 ... 0.31517616 0.27522653 0.14939987]\n",
      "  [3.68346675 1.49174878 1.79366312 ... 0.70365079 0.66307541 0.32479047]\n",
      "  [1.31577179 1.0300234  1.7909018  ... 0.40357786 0.5411471  0.33918057]]\n",
      "\n",
      " ...\n",
      "\n",
      " [[1.55598978 0.98983079 2.04833402 ... 0.47154163 0.31830592 0.25204806]\n",
      "  [1.22212336 0.64913806 1.61823717 ... 0.38643843 0.32675441 0.21438029]\n",
      "  [0.96315362 0.61651977 1.61336617 ... 0.32541483 0.32140234 0.20032834]\n",
      "  ...\n",
      "  [2.47177208 2.32407199 1.57409497 ... 0.35834931 0.32081652 0.73417164]\n",
      "  [1.9684571  2.47252999 1.70415894 ... 0.52097593 0.22563631 0.92269107]\n",
      "  [1.93707949 1.16873449 0.89792082 ... 0.37849122 0.31360995 1.16453759]]\n",
      "\n",
      " [[1.27387738 1.27921787 0.95878554 ... 0.23175901 0.25991682 0.16825448]\n",
      "  [0.91301235 0.81009111 0.82378428 ... 0.16840151 0.20157586 0.11908903]\n",
      "  [0.82601983 0.75219683 0.58990856 ... 0.14677761 0.17295467 0.09438269]\n",
      "  ...\n",
      "  [0.65772046 0.72987608 0.94307262 ... 0.22339259 0.1833218  0.26814595]\n",
      "  [5.01563786 2.01129327 1.5430487  ... 0.38313303 0.17464364 0.25853007]\n",
      "  [1.69028219 1.17530031 1.27933192 ... 0.14867579 0.10719937 0.25342192]]\n",
      "\n",
      " [[2.02099852 1.45730283 0.69418539 ... 0.42117134 0.36646766 0.17454792]\n",
      "  [1.4051572  0.72328854 0.67818176 ... 0.34296996 0.30871878 0.18294118]\n",
      "  [0.96563463 0.4765911  0.57770333 ... 0.30120976 0.26205768 0.20219391]\n",
      "  ...\n",
      "  [2.56051677 2.25752501 0.42533879 ... 0.21276103 0.17422982 0.12726244]\n",
      "  [2.43624316 3.07314215 1.23412494 ... 0.25047813 0.18152745 0.34386115]\n",
      "  [1.8126552  2.64028689 0.91776896 ... 0.24451159 0.15855686 0.30370554]]]\n"
     ]
    }
   ],
   "source": [
    "# carregamento do dataset (FIF file)\n",
    "epochs = mne.read_epochs('files/ssvep-epo.fif')\n",
    "print(epochs)\n",
    "\n",
    "# filtranndo apenas alguns canais\n",
    "epochs.pick_channels(['E108', 'E109', 'E116', 'E125', 'E118', 'E117', 'E126',\n",
    "                      'E139', 'E127', 'E138', 'E140', 'E150', 'E151'])\n",
    "print(epochs)\n",
    "epochs_welch, freqs = mne.time_frequency.psd_welch(epochs, fmin = 4, fmax = 15) \n",
    "print(epochs_welch)\n",
    "\n",
    "# configurando um evento para apresentação dos resultados\n",
    "event = '4'"
   ]
  },
  {
   "cell_type": "code",
   "execution_count": 18,
   "metadata": {},
   "outputs": [
    {
     "ename": "IndexError",
     "evalue": "only integers, slices (`:`), ellipsis (`...`), numpy.newaxis (`None`) and integer or boolean arrays are valid indices",
     "output_type": "error",
     "traceback": [
      "\u001b[0;31m---------------------------------------------------------------------------\u001b[0m",
      "\u001b[0;31mIndexError\u001b[0m                                Traceback (most recent call last)",
      "\u001b[0;32m<ipython-input-18-5d659f0feea9>\u001b[0m in \u001b[0;36m<module>\u001b[0;34m\u001b[0m\n\u001b[1;32m      1\u001b[0m \u001b[0;31m# apresentando o gráfico de um único evento com todos os eletrodos escolhidos SEM FILTRO\u001b[0m\u001b[0;34m\u001b[0m\u001b[0;34m\u001b[0m\u001b[0;34m\u001b[0m\u001b[0m\n\u001b[1;32m      2\u001b[0m \u001b[0mmatplotlib\u001b[0m\u001b[0;34m.\u001b[0m\u001b[0mrcParams\u001b[0m\u001b[0;34m[\u001b[0m\u001b[0;34m'figure.figsize'\u001b[0m\u001b[0;34m]\u001b[0m \u001b[0;34m=\u001b[0m \u001b[0;34m[\u001b[0m\u001b[0;36m12.\u001b[0m\u001b[0;34m,\u001b[0m \u001b[0;36m8.\u001b[0m\u001b[0;34m]\u001b[0m\u001b[0;34m\u001b[0m\u001b[0;34m\u001b[0m\u001b[0m\n\u001b[0;32m----> 3\u001b[0;31m \u001b[0mepochs\u001b[0m\u001b[0;34m[\u001b[0m\u001b[0mevent\u001b[0m\u001b[0;34m]\u001b[0m\u001b[0;34m.\u001b[0m\u001b[0mplot_psd\u001b[0m\u001b[0;34m(\u001b[0m\u001b[0mfmin\u001b[0m \u001b[0;34m=\u001b[0m \u001b[0;36m4\u001b[0m\u001b[0;34m,\u001b[0m \u001b[0mfmax\u001b[0m \u001b[0;34m=\u001b[0m \u001b[0;36m15\u001b[0m\u001b[0;34m)\u001b[0m\u001b[0;34m\u001b[0m\u001b[0;34m\u001b[0m\u001b[0m\n\u001b[0m\u001b[1;32m      4\u001b[0m \u001b[0mprint\u001b[0m\u001b[0;34m(\u001b[0m\u001b[0;34m''\u001b[0m\u001b[0;34m)\u001b[0m\u001b[0;34m\u001b[0m\u001b[0;34m\u001b[0m\u001b[0m\n",
      "\u001b[0;31mIndexError\u001b[0m: only integers, slices (`:`), ellipsis (`...`), numpy.newaxis (`None`) and integer or boolean arrays are valid indices"
     ]
    }
   ],
   "source": [
    "# apresentando o gráfico de um único evento com todos os eletrodos escolhidos SEM FILTRO\n",
    "matplotlib.rcParams['figure.figsize'] = [12., 8.]\n",
    "epochs[event].plot_psd(fmin = 5, fmax = 14)\n",
    "print('')"
   ]
  },
  {
   "cell_type": "markdown",
   "metadata": {},
   "source": [
    "## Filtros temporais\n",
    "\n",
    "Apesar do nome ocorrer como \"temporal\", o resultado destes filtros ficam melhor visíveis em um gráfico do domínio da frequência, ao invés do domínio do tempo como o nome sugere. O filtro é dito temporal pois influencia diretamente na **periodicidade** das diversas frequências presentes em um sinal de EEG por exemplo. Mesmo que singelo, é possível perceber que o gráfico no domínio do tempo é mais suave de acordo com a quantidade de frequência \"excluída\" do sinal. Porém, vemos a diferença direta no domínio da frequência.\n",
    "\n",
    "Existem 4 tipos de filtros temporais a saber:\n",
    "- passa-alta (*high pass*)\n",
    "- passa-baixa (*low pass*)\n",
    "- passa-faixa (*band pass*)\n",
    "- rejeita-faixa (*notch*)\n",
    "\n",
    "Mostraremos o resultado de cada um deles (e o *notch filter* quebrando em `Raw`)\n",
    "\n",
    "### *High pass filter*"
   ]
  },
  {
   "cell_type": "code",
   "execution_count": null,
   "metadata": {},
   "outputs": [],
   "source": [
    "epo_h = epochs.copy().filter(l_freq=None, h_freq=14.)\n",
    "epo_h[event].plot_psd(fmin = 5, fmax = 14)\n",
    "print('')"
   ]
  },
  {
   "cell_type": "markdown",
   "metadata": {},
   "source": [
    "Onde ocorre a \"quebra\" do sinal ou aplicação do filtro, é mostrado uma linha pontilhada, indicando para o *high-pass* que a partir daquele ponto (14 Hz) a frequência foi cortada. \n",
    "\n",
    "### *Low pass filter*"
   ]
  },
  {
   "cell_type": "code",
   "execution_count": null,
   "metadata": {
    "scrolled": true
   },
   "outputs": [],
   "source": [
    "epo_l = epochs.copy().filter(l_freq=5, h_freq=None)\n",
    "epo_l[event].plot_psd(fmin = 5, fmax = 14)\n",
    "print('')"
   ]
  },
  {
   "cell_type": "markdown",
   "metadata": {},
   "source": [
    "Aqui percebemos o corte das frequências abaixo de 5 Hz e o restante do sinal igual ao original.\n",
    "\n",
    "### *Band pass filter*"
   ]
  },
  {
   "cell_type": "code",
   "execution_count": null,
   "metadata": {
    "scrolled": true
   },
   "outputs": [],
   "source": [
    "epo_b = epochs.copy().filter(l_freq=5, h_freq=14)\n",
    "for i in range (9):\n",
    "    epo_b = epo_b.copy().filter(l_freq=5, h_freq=14)\n",
    "\n",
    "epo_b[event].plot_psd(fmin = 5, fmax = 14)\n",
    "print('')"
   ]
  },
  {
   "cell_type": "markdown",
   "metadata": {},
   "source": [
    "Neste exemplo vimos que é possível realizar o corte das frequências acima e abaixo do desejado. Porém, o resultado do que foi cortado acima e abaixo das frequências não foi igual ao resultado apresentado no corte das frequências originais. Iremos analisar isso com mais detalhes aplicando *low* e *high filter* em sequência e comparar com o resultado gerado anteriormente, obtendo algo bem parecido."
   ]
  },
  {
   "cell_type": "code",
   "execution_count": null,
   "metadata": {},
   "outputs": [],
   "source": [
    "epo_b2 = epochs.copy().filter(l_freq=5, h_freq=None)\n",
    "epo_b2.filter(l_freq=None, h_freq=14)\n",
    "epo_b2[event].plot_psd(fmin = 5, fmax = 14)\n",
    "print('')"
   ]
  },
  {
   "cell_type": "markdown",
   "metadata": {},
   "source": [
    "Por fim, o *notch*, após reduzir o objeto para um `Raw` para simples visualização.\n",
    "\n",
    "### notch filter"
   ]
  },
  {
   "cell_type": "code",
   "execution_count": null,
   "metadata": {},
   "outputs": [],
   "source": [
    "a = epochs.get_data()\n",
    "a = a.transpose(1, 0, 2)\n",
    "a = a.reshape(13, 125 * 1205)\n",
    "\n",
    "# criando o objeto `info` (o restante dos valores já temos)\n",
    "info = mne.create_info(ch_names=13,\n",
    "                       sfreq=241.,\n",
    "                       ch_types='eeg')\n",
    "\n",
    "raw = mne.io.RawArray(a, info)\n",
    "\n",
    "# raw.notch_filter?"
   ]
  },
  {
   "cell_type": "markdown",
   "metadata": {},
   "source": [
    "### Aplicações multiplas de filtros causam diferença?\n",
    "\n",
    "Vamos analisar o que acontece se atenuarmos diversas vezes o mesmo filtro."
   ]
  },
  {
   "cell_type": "code",
   "execution_count": null,
   "metadata": {},
   "outputs": [],
   "source": [
    "# aplicar os filtros N vezes necessárias e verificar se há modificações\n",
    "\n",
    "# realizar ZOOM nas abcissas (frequência) para ver os sinais filtrados \"mais de perto\"\n",
    "print('')"
   ]
  },
  {
   "cell_type": "markdown",
   "metadata": {},
   "source": [
    "## Filtros espaciais\n",
    "\n",
    "Filtros espaciais são utilizados para escolher canais de dados que melhor respondem a uma determinada tarefa. No caso do paradigma SSVEP, espera-se encontrar o conjunto de eletrodos que possuem respostas mais significativas em relação à frequências evocadas. Um algoritmo muito utilizado para este fim é o CAR (*Common Average Reference*).\n",
    "\n",
    "Uma filtragem espacial pelo método CAR subtrai os artefatos comuns a todos os eletrodos. Comumente em BCI, para a redução de sinais não desejados, são posicionados eletrodos de referência em locais que tentam subtrair os potenciais comuns em todos os outros eletrodos. A técnica de filtragem espacial CAR reduz as componentes que estão em maior número nos eletrodos, subtraindo cada amostra do sinal pelo valor médio da diferença de potencial calculada para todos os eletrodos e a diferença aferida em cada eletrodo.\n",
    "\n",
    "O método CAR é definito como:\n",
    "\n",
    "\\begin{equation}\n",
    "V_i^{CAR} = V_i^{ER} - \\frac{1}{N_e} \\sum\\limits_{j=1}^{N_e} V_j^{ER}\n",
    "\\end{equation}\n",
    "\n",
    "onde $V_i^{ER}$ é o potencial do i-ésimo eletrodo e ${N_e}$ é o número de eletrodos utilizados.\n",
    "\n",
    "No MNE a implementação do CAR se dá pela aplicação do método `set_eeg.reference`:"
   ]
  },
  {
   "cell_type": "code",
   "execution_count": null,
   "metadata": {
    "scrolled": false
   },
   "outputs": [],
   "source": [
    "##Plot do epochs para referência\n",
    "epochs[event].plot_psd()\n",
    "\n",
    "epo_ref = mne.set_eeg_reference(epochs, ref_channels=['E116', 'E126', 'E150'])\n",
    "\n",
    "\n",
    "#Plot do epoch após passar pelo filtro de referência\n",
    "epo_ref[0][event].plot_psd()"
   ]
  },
  {
   "cell_type": "markdown",
   "metadata": {},
   "source": [
    "### Questões de projeto\n",
    "\n",
    "1. Como saber quais são os eletrodos a serem utilizados como referência?\n",
    "2. A média de TODOS os eletrodos é um bom chute?\n",
    "3. Como utilizar as informações de retorno do método `set_eeg_reference`"
   ]
  },
  {
   "cell_type": "markdown",
   "metadata": {},
   "source": [
    "1. De acordo com https://www.educamaisbrasil.com.br/enem/biologia/cerebro, a região do cérebro que processa informações visuais é o Lobo Occipital ou a região traseira-inferior do crânio. Sendo assim, como o experimento trata de elementos visuais, os eletrodos a serem utilizados são os occipitais e para-occipitais.\n",
    "\n",
    "2. Não, pois entrariam para o cálculo, sinais de tato, olfato, paladar e outras sensações, gerando um ruído para o cálculo de média. O correto, para este experimento, seria realizar uma média de todos eletrodos occipitais e para-occipitais, ou poderia ser aplicado algum outro filtro.\n",
    "\n",
    "3. As informações de retorno do `set_eeg_reference` especificam explicitamente uma referência de eletrodos, no caso do experimento, os eletrodos principais referentes à visão, são os 'E116' = O1, 'E126' = Oz e 'E150' = O2. Assim filtrando menores ruídos de outros eletrodos. Porém, ainda é necessário aplicar um filtro para amenizar as frequências não desejadas."
   ]
  }
 ],
 "metadata": {
  "kernelspec": {
   "display_name": "Python 3",
   "language": "python",
   "name": "python3"
  },
  "language_info": {
   "codemirror_mode": {
    "name": "ipython",
    "version": 3
   },
   "file_extension": ".py",
   "mimetype": "text/x-python",
   "name": "python",
   "nbconvert_exporter": "python",
   "pygments_lexer": "ipython3",
   "version": "3.6.9"
  }
 },
 "nbformat": 4,
 "nbformat_minor": 4
}
