{
 "cells": [
  {
   "cell_type": "markdown",
   "metadata": {},
   "source": [
    "# Etapa de Pré-Processamento\n",
    "\n",
    "O ideal é que esta etapa seja realizada enquanto os dados estejam crus (antes de transformar em um objeto MNE ou transformado em um `RawData`). Esta afirmação ocorre pois os dados transformados em um objeto MNE `Epoch` ou `Evoked` não possuem todo os métodos para aplicar os **filtros temporais**, por exemplo, a ausência da negação de frequência (*notch_filter*).\n",
    "\n",
    "Contudo, podemos obter bons resultados com filtros passa-baixa (*low pass*) ou passa-alta (*high pass*), configurando valores abaixo e acima da frequência de corte desejada respectivamente."
   ]
  },
  {
   "cell_type": "code",
   "execution_count": 1,
   "metadata": {},
   "outputs": [],
   "source": [
    "import numpy as np\n",
    "import json\n",
    "import mne\n",
    "import scipy\n",
    "import matplotlib\n",
    "from sklearn.model_selection import train_test_split\n",
    "from sklearn.svm import SVC\n",
    "from scipy.signal import stft\n",
    "from sklearn.ensemble import RandomForestClassifier\n",
    "from sklearn import metrics\n",
    "\n",
    "%matplotlib inline"
   ]
  },
  {
   "cell_type": "code",
   "execution_count": 2,
   "metadata": {},
   "outputs": [
    {
     "name": "stdout",
     "output_type": "stream",
     "text": [
      "Reading files/ssvep-epo.fif ...\n"
     ]
    },
    {
     "ename": "FileNotFoundError",
     "evalue": "[Errno 2] No such file or directory: 'files/ssvep-epo.fif'",
     "output_type": "error",
     "traceback": [
      "\u001b[0;31m---------------------------------------------------------------------------\u001b[0m",
      "\u001b[0;31mFileNotFoundError\u001b[0m                         Traceback (most recent call last)",
      "\u001b[0;32m<ipython-input-2-fe3d61abe70a>\u001b[0m in \u001b[0;36m<module>\u001b[0;34m\u001b[0m\n\u001b[1;32m      1\u001b[0m \u001b[0;31m# carregamento do dataset (FIF file)\u001b[0m\u001b[0;34m\u001b[0m\u001b[0;34m\u001b[0m\u001b[0;34m\u001b[0m\u001b[0m\n\u001b[0;32m----> 2\u001b[0;31m \u001b[0mepochs\u001b[0m \u001b[0;34m=\u001b[0m \u001b[0mmne\u001b[0m\u001b[0;34m.\u001b[0m\u001b[0mread_epochs\u001b[0m\u001b[0;34m(\u001b[0m\u001b[0;34m'files/ssvep-epo.fif'\u001b[0m\u001b[0;34m)\u001b[0m\u001b[0;34m\u001b[0m\u001b[0;34m\u001b[0m\u001b[0m\n\u001b[0m\u001b[1;32m      3\u001b[0m \u001b[0mprint\u001b[0m\u001b[0;34m(\u001b[0m\u001b[0mepochs\u001b[0m\u001b[0;34m)\u001b[0m\u001b[0;34m\u001b[0m\u001b[0;34m\u001b[0m\u001b[0m\n\u001b[1;32m      4\u001b[0m \u001b[0;34m\u001b[0m\u001b[0m\n\u001b[1;32m      5\u001b[0m \u001b[0;31m# filtranndo apenas alguns canais\u001b[0m\u001b[0;34m\u001b[0m\u001b[0;34m\u001b[0m\u001b[0;34m\u001b[0m\u001b[0m\n",
      "\u001b[0;32m<decorator-gen-188>\u001b[0m in \u001b[0;36mread_epochs\u001b[0;34m(fname, proj, preload, verbose)\u001b[0m\n",
      "\u001b[0;32m~/.local/lib/python3.6/site-packages/mne/epochs.py\u001b[0m in \u001b[0;36mread_epochs\u001b[0;34m(fname, proj, preload, verbose)\u001b[0m\n\u001b[1;32m   2629\u001b[0m         \u001b[0mThe\u001b[0m \u001b[0mepochs\u001b[0m\u001b[0;34m.\u001b[0m\u001b[0;34m\u001b[0m\u001b[0;34m\u001b[0m\u001b[0m\n\u001b[1;32m   2630\u001b[0m     \"\"\"\n\u001b[0;32m-> 2631\u001b[0;31m     \u001b[0;32mreturn\u001b[0m \u001b[0mEpochsFIF\u001b[0m\u001b[0;34m(\u001b[0m\u001b[0mfname\u001b[0m\u001b[0;34m,\u001b[0m \u001b[0mproj\u001b[0m\u001b[0;34m,\u001b[0m \u001b[0mpreload\u001b[0m\u001b[0;34m,\u001b[0m \u001b[0mverbose\u001b[0m\u001b[0;34m)\u001b[0m\u001b[0;34m\u001b[0m\u001b[0;34m\u001b[0m\u001b[0m\n\u001b[0m\u001b[1;32m   2632\u001b[0m \u001b[0;34m\u001b[0m\u001b[0m\n\u001b[1;32m   2633\u001b[0m \u001b[0;34m\u001b[0m\u001b[0m\n",
      "\u001b[0;32m<decorator-gen-189>\u001b[0m in \u001b[0;36m__init__\u001b[0;34m(self, fname, proj, preload, verbose)\u001b[0m\n",
      "\u001b[0;32m~/.local/lib/python3.6/site-packages/mne/epochs.py\u001b[0m in \u001b[0;36m__init__\u001b[0;34m(self, fname, proj, preload, verbose)\u001b[0m\n\u001b[1;32m   2696\u001b[0m             \u001b[0mfname_rep\u001b[0m \u001b[0;34m=\u001b[0m \u001b[0m_get_fname_rep\u001b[0m\u001b[0;34m(\u001b[0m\u001b[0mfname\u001b[0m\u001b[0;34m)\u001b[0m\u001b[0;34m\u001b[0m\u001b[0;34m\u001b[0m\u001b[0m\n\u001b[1;32m   2697\u001b[0m             \u001b[0mlogger\u001b[0m\u001b[0;34m.\u001b[0m\u001b[0minfo\u001b[0m\u001b[0;34m(\u001b[0m\u001b[0;34m'Reading %s ...'\u001b[0m \u001b[0;34m%\u001b[0m \u001b[0mfname_rep\u001b[0m\u001b[0;34m)\u001b[0m\u001b[0;34m\u001b[0m\u001b[0;34m\u001b[0m\u001b[0m\n\u001b[0;32m-> 2698\u001b[0;31m             \u001b[0mfid\u001b[0m\u001b[0;34m,\u001b[0m \u001b[0mtree\u001b[0m\u001b[0;34m,\u001b[0m \u001b[0m_\u001b[0m \u001b[0;34m=\u001b[0m \u001b[0mfiff_open\u001b[0m\u001b[0;34m(\u001b[0m\u001b[0mfname\u001b[0m\u001b[0;34m,\u001b[0m \u001b[0mpreload\u001b[0m\u001b[0;34m=\u001b[0m\u001b[0mpreload\u001b[0m\u001b[0;34m)\u001b[0m\u001b[0;34m\u001b[0m\u001b[0;34m\u001b[0m\u001b[0m\n\u001b[0m\u001b[1;32m   2699\u001b[0m             \u001b[0mnext_fname\u001b[0m \u001b[0;34m=\u001b[0m \u001b[0m_get_next_fname\u001b[0m\u001b[0;34m(\u001b[0m\u001b[0mfid\u001b[0m\u001b[0;34m,\u001b[0m \u001b[0mfname\u001b[0m\u001b[0;34m,\u001b[0m \u001b[0mtree\u001b[0m\u001b[0;34m)\u001b[0m\u001b[0;34m\u001b[0m\u001b[0;34m\u001b[0m\u001b[0m\n\u001b[1;32m   2700\u001b[0m             (info, data, data_tag, events, event_id, metadata, tmin, tmax,\n",
      "\u001b[0;32m<decorator-gen-6>\u001b[0m in \u001b[0;36mfiff_open\u001b[0;34m(fname, preload, verbose)\u001b[0m\n",
      "\u001b[0;32m~/.local/lib/python3.6/site-packages/mne/io/open.py\u001b[0m in \u001b[0;36mfiff_open\u001b[0;34m(fname, preload, verbose)\u001b[0m\n\u001b[1;32m    118\u001b[0m         \u001b[0mA\u001b[0m \u001b[0mlist\u001b[0m \u001b[0mof\u001b[0m \u001b[0mtags\u001b[0m\u001b[0;34m.\u001b[0m\u001b[0;34m\u001b[0m\u001b[0;34m\u001b[0m\u001b[0m\n\u001b[1;32m    119\u001b[0m     \"\"\"\n\u001b[0;32m--> 120\u001b[0;31m     \u001b[0mfid\u001b[0m \u001b[0;34m=\u001b[0m \u001b[0m_fiff_get_fid\u001b[0m\u001b[0;34m(\u001b[0m\u001b[0mfname\u001b[0m\u001b[0;34m)\u001b[0m\u001b[0;34m\u001b[0m\u001b[0;34m\u001b[0m\u001b[0m\n\u001b[0m\u001b[1;32m    121\u001b[0m     \u001b[0;31m# do preloading of entire file\u001b[0m\u001b[0;34m\u001b[0m\u001b[0;34m\u001b[0m\u001b[0;34m\u001b[0m\u001b[0m\n\u001b[1;32m    122\u001b[0m     \u001b[0;32mif\u001b[0m \u001b[0mpreload\u001b[0m\u001b[0;34m:\u001b[0m\u001b[0;34m\u001b[0m\u001b[0;34m\u001b[0m\u001b[0m\n",
      "\u001b[0;32m~/.local/lib/python3.6/site-packages/mne/io/open.py\u001b[0m in \u001b[0;36m_fiff_get_fid\u001b[0;34m(fname)\u001b[0m\n\u001b[1;32m     49\u001b[0m         \u001b[0;32melse\u001b[0m\u001b[0;34m:\u001b[0m\u001b[0;34m\u001b[0m\u001b[0;34m\u001b[0m\u001b[0m\n\u001b[1;32m     50\u001b[0m             \u001b[0mlogger\u001b[0m\u001b[0;34m.\u001b[0m\u001b[0mdebug\u001b[0m\u001b[0;34m(\u001b[0m\u001b[0;34m'Using normal I/O'\u001b[0m\u001b[0;34m)\u001b[0m\u001b[0;34m\u001b[0m\u001b[0;34m\u001b[0m\u001b[0m\n\u001b[0;32m---> 51\u001b[0;31m             \u001b[0mfid\u001b[0m \u001b[0;34m=\u001b[0m \u001b[0mopen\u001b[0m\u001b[0;34m(\u001b[0m\u001b[0mfname\u001b[0m\u001b[0;34m,\u001b[0m \u001b[0;34m\"rb\"\u001b[0m\u001b[0;34m)\u001b[0m  \u001b[0;31m# Open in binary mode\u001b[0m\u001b[0;34m\u001b[0m\u001b[0;34m\u001b[0m\u001b[0m\n\u001b[0m\u001b[1;32m     52\u001b[0m     \u001b[0;32mreturn\u001b[0m \u001b[0mfid\u001b[0m\u001b[0;34m\u001b[0m\u001b[0;34m\u001b[0m\u001b[0m\n\u001b[1;32m     53\u001b[0m \u001b[0;34m\u001b[0m\u001b[0m\n",
      "\u001b[0;31mFileNotFoundError\u001b[0m: [Errno 2] No such file or directory: 'files/ssvep-epo.fif'"
     ]
    }
   ],
   "source": [
    "# carregamento do dataset (FIF file)\n",
    "epochs = mne.read_epochs('files/ssvep-epo.fif')\n",
    "print(epochs)\n",
    "\n",
    "# filtranndo apenas alguns canais\n",
    "epochs.pick_channels(['E101', 'E118', 'E119'])\n",
    "print(epochs)\n",
    "\n",
    "# configurando um evento para apresentação dos resultados\n",
    "event = '4'"
   ]
  },
  {
   "cell_type": "code",
   "execution_count": null,
   "metadata": {},
   "outputs": [],
   "source": [
    "# apresentando o gráfico de um único evento com todos os eletrodos escolhidos SEM FILTRO\n",
    "matplotlib.rcParams['figure.figsize'] = [12., 8.]\n",
    "epochs[event].plot_psd(fmin = 5, fmax = 14)\n",
    "print('')"
   ]
  },
  {
   "cell_type": "markdown",
   "metadata": {},
   "source": [
    "## Filtros temporais\n",
    "\n",
    "Apesar do nome ocorrer como \"temporal\", o resultado destes filtros ficam melhor visíveis em um gráfico do domínio da frequência, ao invés do domínio do tempo como o nome sugere. O filtro é dito temporal pois influencia diretamente na **periodicidade** das diversas frequências presentes em um sinal de EEG por exemplo. Mesmo que singelo, é possível perceber que o gráfico no domínio do tempo é mais suave de acordo com a quantidade de frequência \"excluída\" do sinal. Porém, vemos a diferença direta no domínio da frequência.\n",
    "\n",
    "Existem 4 tipos de filtros temporais a saber:\n",
    "- passa-alta (*high pass*)\n",
    "- passa-baixa (*low pass*)\n",
    "- passa-faixa (*band pass*)\n",
    "- rejeita-faixa (*notch*)\n",
    "\n",
    "Mostraremos o resultado de cada um deles (e o *notch filter* quebrando em `Raw`)\n",
    "\n",
    "### *High pass filter*"
   ]
  },
  {
   "cell_type": "code",
   "execution_count": null,
   "metadata": {},
   "outputs": [],
   "source": [
    "epo_h = epochs.copy().filter(l_freq=None, h_freq=14.)\n",
    "epo_h[event].plot_psd(fmin = 5, fmax = 14)\n",
    "print('')"
   ]
  },
  {
   "cell_type": "markdown",
   "metadata": {},
   "source": [
    "Onde ocorre a \"quebra\" do sinal ou aplicação do filtro, é mostrado uma linha pontilhada, indicando para o *high-pass* que a partir daquele ponto (14 Hz) a frequência foi cortada. \n",
    "\n",
    "### *Low pass filter*"
   ]
  },
  {
   "cell_type": "code",
   "execution_count": null,
   "metadata": {
    "scrolled": true
   },
   "outputs": [],
   "source": [
    "epo_l = epochs.copy().filter(l_freq=5, h_freq=None)\n",
    "epo_l[event].plot_psd(fmin = 5, fmax = 14)\n",
    "print('')"
   ]
  },
  {
   "cell_type": "markdown",
   "metadata": {},
   "source": [
    "Aqui percebemos o corte das frequências abaixo de 5 Hz e o restante do sinal igual ao original.\n",
    "\n",
    "### *Band pass filter*"
   ]
  },
  {
   "cell_type": "code",
   "execution_count": null,
   "metadata": {
    "scrolled": true
   },
   "outputs": [],
   "source": [
    "epo_b = epochs.copy().filter(l_freq=5, h_freq=14)\n",
    "for i in range (9):\n",
    "    epo_b = epo_b.copy().filter(l_freq=5, h_freq=14)\n",
    "\n",
    "epo_b[event].plot_psd(fmin = 5, fmax = 14)\n",
    "print('')"
   ]
  },
  {
   "cell_type": "markdown",
   "metadata": {},
   "source": [
    "Neste exemplo vimos que é possível realizar o corte das frequências acima e abaixo do desejado. Porém, o resultado do que foi cortado acima e abaixo das frequências não foi igual ao resultado apresentado no corte das frequências originais. Iremos analisar isso com mais detalhes aplicando *low* e *high filter* em sequência e comparar com o resultado gerado anteriormente, obtendo algo bem parecido."
   ]
  },
  {
   "cell_type": "code",
   "execution_count": null,
   "metadata": {},
   "outputs": [],
   "source": [
    "epo_b2 = epochs.copy().filter(l_freq=5, h_freq=None)\n",
    "epo_b2.filter(l_freq=None, h_freq=14)\n",
    "epo_b2[event].plot_psd(fmin = 5, fmax = 14)\n",
    "print('')"
   ]
  },
  {
   "cell_type": "markdown",
   "metadata": {},
   "source": [
    "Por fim, o *notch*, após reduzir o objeto para um `Raw` para simples visualização.\n",
    "\n",
    "### notch filter"
   ]
  },
  {
   "cell_type": "code",
   "execution_count": null,
   "metadata": {
    "scrolled": true
   },
   "outputs": [],
   "source": [
    "a = epochs.get_data()\n",
    "print(a.shape)\n",
    "a = a.transpose(1, 0, 2)\n",
    "a = a.reshape(3, 125 * 1205)\n",
    "\n",
    "# criando o objeto `info` (o restante dos valores já temos)\n",
    "info = mne.create_info(ch_names=3,\n",
    "                       sfreq=241.,\n",
    "                       ch_types='eeg')\n",
    "\n",
    "raw = mne.io.RawArray(a, info)\n",
    "\n",
    "# raw.notch_filter?"
   ]
  },
  {
   "cell_type": "markdown",
   "metadata": {},
   "source": [
    "### Aplicações multiplas de filtros causam diferença?\n",
    "\n",
    "Vamos analisar o que acontece se atenuarmos diversas vezes o mesmo filtro."
   ]
  },
  {
   "cell_type": "code",
   "execution_count": null,
   "metadata": {},
   "outputs": [],
   "source": [
    "# aplicar os filtros N vezes necessárias e verificar se há modificações\n",
    "\n",
    "# realizar ZOOM nas abcissas (frequência) para ver os sinais filtrados \"mais de perto\"\n",
    "print('')"
   ]
  },
  {
   "cell_type": "markdown",
   "metadata": {},
   "source": [
    "## Filtros espaciais\n",
    "\n",
    "Filtros espaciais são utilizados para escolher canais de dados que melhor respondem a uma determinada tarefa. No caso do paradigma SSVEP, espera-se encontrar o conjunto de eletrodos que possuem respostas mais significativas em relação à frequências evocadas. Um algoritmo muito utilizado para este fim é o CAR (*Common Average Reference*).\n",
    "\n",
    "Uma filtragem espacial pelo método CAR subtrai os artefatos comuns a todos os eletrodos. Comumente em BCI, para a redução de sinais não desejados, são posicionados eletrodos de referência em locais que tentam subtrair os potenciais comuns em todos os outros eletrodos. A técnica de filtragem espacial CAR reduz as componentes que estão em maior número nos eletrodos, subtraindo cada amostra do sinal pelo valor médio da diferença de potencial calculada para todos os eletrodos e a diferença aferida em cada eletrodo.\n",
    "\n",
    "O método CAR é definito como:\n",
    "\n",
    "\\begin{equation}\n",
    "V_i^{CAR} = V_i^{ER} - \\frac{1}{N_e} \\sum\\limits_{j=1}^{N_e} V_j^{ER}\n",
    "\\end{equation}\n",
    "\n",
    "onde $V_i^{ER}$ é o potencial do i-ésimo eletrodo e ${N_e}$ é o número de eletrodos utilizados.\n",
    "\n",
    "No MNE a implementação do CAR se dá pela aplicação do método `set_eeg.reference`:"
   ]
  },
  {
   "cell_type": "code",
   "execution_count": null,
   "metadata": {
    "scrolled": true
   },
   "outputs": [],
   "source": [
    "##Plot do epochs para referência\n",
    "epochs[event].plot_psd()\n",
    "\n",
    "#epo_ref = mne.set_eeg_reference(epochs)\n",
    "\n",
    "\n",
    "\n",
    "\n",
    "#Plot do epoch após passar pelo filtro de referência\n",
    "#epo_ref[0][event].plot_psd()"
   ]
  },
  {
   "cell_type": "code",
   "execution_count": null,
   "metadata": {},
   "outputs": [],
   "source": [
    "data = np.load('files/data.npy')\n",
    "labels = np.load('files/labels.npy')\n",
    "\n",
    "desc_file = open('files/descriptor.json')\n",
    "deor = json.loads(desc_file.read())\n",
    "desc_file.close()\n",
    "\n",
    "print('Estruturas => dados', data.shape, 'labels', labels.shape)\n",
    "print(labels)\n",
    "\n",
    "data = data[:, :256, :]\n",
    "\n",
    "trial_duration = 5\n",
    "sampling_frequency = data.shape[-1] / trial_duration\n",
    "montage = mne.channels.make_standard_montage('EGI_256')\n",
    "ch_names = data.shape[1]\n",
    "ch_types = 'eeg'\n",
    "\n",
    "# primeiramente devemos criar o objeto info\n",
    "info = mne.create_info(montage.ch_names, sampling_frequency, ch_types)\n",
    "\n",
    "# set experiments montage\n",
    "info.set_montage(montage)\n",
    "\n",
    "# por fim a criação do EpochsArray\n",
    "events = np.array([[index, 0, event] for index, event in enumerate(labels)])\n",
    "# objeto MNE epoch\n",
    "#'E128', 'E129', 'E138', 'E139', 'E140', 'E141'\n",
    "epoch = mne.EpochsArray(data, info, events)\n",
    "\n",
    "\n",
    "\n",
    "channels = ['E101', 'E118', 'E119']\n",
    "\n"
   ]
  },
  {
   "cell_type": "markdown",
   "metadata": {},
   "source": [
    "### Questões de projeto\n",
    "\n",
    "1. Como saber quais são os eletrodos a serem utilizados como referência?\n",
    "2. A média de TODOS os eletrodos é um bom chute?\n",
    "3. Como utilizar as informações de retorno do método `set_eeg_reference`"
   ]
  },
  {
   "cell_type": "markdown",
   "metadata": {},
   "source": [
    "1. De acordo com https://www.educamaisbrasil.com.br/enem/biologia/cerebro, a região do cérebro que processa informações visuais é o Lobo Occipital ou a região traseira-inferior do crânio. Sendo assim, como o experimento trata de elementos visuais, os eletrodos a serem utilizados são os occipitais e para-occipitais.\n",
    "\n",
    "2. Não, pois entrariam para o cálculo, sinais de tato, olfato, paladar e outras sensações, gerando um ruído para o cálculo de média. O correto, para este experimento, seria realizar uma média de todos eletrodos occipitais e para-occipitais, ou poderia ser aplicado algum outro filtro.\n",
    "\n",
    "3. As informações de retorno do `set_eeg_reference` especificam explicitamente uma referência de eletrodos, no caso do experimento, os eletrodos principais referentes à visão, são os 'E116' = O1, 'E126' = Oz e 'E150' = O2. Assim filtrando menores ruídos de outros eletrodos. Porém, ainda é necessário aplicar um filtro para amenizar as frequências não desejadas."
   ]
  }
 ],
 "metadata": {
  "kernelspec": {
   "display_name": "Python 3",
   "language": "python",
   "name": "python3"
  },
  "language_info": {
   "codemirror_mode": {
    "name": "ipython",
    "version": 3
   },
   "file_extension": ".py",
   "mimetype": "text/x-python",
   "name": "python",
   "nbconvert_exporter": "python",
   "pygments_lexer": "ipython3",
   "version": "3.6.9"
  }
 },
 "nbformat": 4,
 "nbformat_minor": 4
}
